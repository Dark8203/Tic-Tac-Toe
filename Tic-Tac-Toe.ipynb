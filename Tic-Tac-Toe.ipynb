{
 "cells": [
  {
   "cell_type": "code",
   "execution_count": null,
   "id": "cfc4e671",
   "metadata": {},
   "outputs": [],
   "source": []
  },
  {
   "cell_type": "code",
   "execution_count": 48,
   "id": "ca504296",
   "metadata": {},
   "outputs": [],
   "source": [
    "def display_game():\n",
    "    row1 = ' | | '\n",
    "    row2 = ' | | '\n",
    "    row3 = ' | | '\n",
    "    print(row1)\n",
    "    print(row2)\n",
    "    print(row3)\n",
    "    return row1,row2,row3"
   ]
  },
  {
   "cell_type": "code",
   "execution_count": 49,
   "id": "326b9a4b",
   "metadata": {},
   "outputs": [],
   "source": [
    "def player_names():\n",
    "    p1 = input(\"Enter name of Player 1 : \")\n",
    "    p2 = input(\"Enter name of Player 2 : \")\n",
    "    print(f'Player 1 is : {p1}')\n",
    "    print(f'Player 2 is : {p2}')"
   ]
  },
  {
   "cell_type": "code",
   "execution_count": 50,
   "id": "484bb7d3",
   "metadata": {},
   "outputs": [],
   "source": [
    "def player1_input():\n",
    "   \n",
    "    p_row = ''\n",
    "    p_cell = ''\n",
    "    while p_row not in rows or p_cell not in cells:\n",
    "        p_row = input(\"Choose the row to play (Top, Middle, Bottom) : \")\n",
    "        \n",
    "        if p_row not in rows:\n",
    "            print(\"Please choose a valid row!!!\")\n",
    "            continue\n",
    "            \n",
    "        p_cell = input(\"Choose the cell to play (Left, Center, Right) : \")\n",
    "        \n",
    "        if p_cell not in cells:\n",
    "            print(\"Please choose a valid cell!!!\")\n",
    "            continue\n",
    "            \n",
    "    return (p_row,p_cell)"
   ]
  },
  {
   "cell_type": "code",
   "execution_count": 51,
   "id": "caad6de5",
   "metadata": {},
   "outputs": [],
   "source": [
    "def player2_input():\n",
    "   \n",
    "    p_row = ''\n",
    "    p_cell = ''\n",
    "    while p_row not in rows or p_cell not in cells:\n",
    "        p_row = input(\"Choose the row to play (Top, Middle, Bottom) : \")\n",
    "        \n",
    "        if p_row not in rows:\n",
    "            print(\"Please choose a valid row!!!\")\n",
    "            continue\n",
    "            \n",
    "        p_cell = input(\"Choose the cell to play (Left, Center, Right) : \")\n",
    "        \n",
    "        if p_cell not in cells:\n",
    "            print(\"Please choose a valid cell!!!\")\n",
    "            continue\n",
    "            \n",
    "    return (p_row,p_cell)"
   ]
  },
  {
   "cell_type": "code",
   "execution_count": 52,
   "id": "05c0624f",
   "metadata": {},
   "outputs": [],
   "source": [
    "def update_board(play_player,play_row,play_cell):\n",
    "    \n",
    "#     choices_rows[play_row] = choices_rows[play_row].replace(choices_rows[play_row][choices_cells[play_cell]],player[play_player] )\n",
    "    choices_rows[play_row] = choices_rows[play_row][:choices_cells[play_cell]] + player[play_player] + choices_rows[play_row][choices_cells[play_cell]+1:]\n",
    "    print(choices_rows['Top'])\n",
    "    print(choices_rows['Middle'])\n",
    "    print(choices_rows['Bottom'])"
   ]
  },
  {
   "cell_type": "code",
   "execution_count": 53,
   "id": "52e4a400",
   "metadata": {},
   "outputs": [],
   "source": [
    "def player_turn(turn):\n",
    "    \n",
    "    if turn:\n",
    "        print(\"Player2 Turn\")\n",
    "        return player2_input()\n",
    "    else:\n",
    "        print(\"Player1 Turn\")\n",
    "        return player1_input()"
   ]
  },
  {
   "cell_type": "code",
   "execution_count": 54,
   "id": "c4fc04d6",
   "metadata": {},
   "outputs": [],
   "source": [
    "def check_input(moves_list):\n",
    "    if {(p_row,p_cell)}.issubset(moves_list):\n",
    "        print('This move is already taken, Please choose another move!!!')\n",
    "        return 1\n",
    "    moves_list.add((p_row,p_cell))\n",
    "    return 0"
   ]
  },
  {
   "cell_type": "code",
   "execution_count": 60,
   "id": "f14b9dc0",
   "metadata": {},
   "outputs": [],
   "source": [
    "def end_game(moves):\n",
    "    if moves == 9 or win_check(player[players[turn]]):\n",
    "        print('Game Over!!!')\n",
    "        return True\n",
    "    else:\n",
    "        return False"
   ]
  },
  {
   "cell_type": "code",
   "execution_count": 56,
   "id": "3e3d3988",
   "metadata": {},
   "outputs": [],
   "source": [
    "def start_turn():\n",
    "    return random.randint(0,1)"
   ]
  },
  {
   "cell_type": "code",
   "execution_count": 57,
   "id": "661d984c",
   "metadata": {},
   "outputs": [],
   "source": [
    "def replay():\n",
    "    ch = input(\"Want to Play Again? (Y/N) \")\n",
    "    \n",
    "    return ch == 'Y'"
   ]
  },
  {
   "cell_type": "code",
   "execution_count": 58,
   "id": "4b28238b",
   "metadata": {},
   "outputs": [],
   "source": [
    "def win_check(mark):\n",
    "    \n",
    "    return ((choices_rows['Top'][0] == choices_rows['Top'][2] == choices_rows['Top'][4] == mark) or\n",
    "            (choices_rows['Middle'][0] == choices_rows['Middle'][2] == choices_rows['Middle'][2] == mark) or\n",
    "            (choices_rows['Bottom'][0] == choices_rows['Bottom'][2] == choices_rows['Bottom'][4] == mark) or\n",
    "            (choices_rows['Top'][0] == choices_rows['Middle'][2] == choices_rows['Bottom'][4] == mark) or\n",
    "            (choices_rows['Top'][4] == choices_rows['Middle'][2] == choices_rows['Bottom'][0] == mark) or\n",
    "            (choices_rows['Top'][0] == choices_rows['Middle'][0] == choices_rows['Bottom'][0] == mark) or\n",
    "            (choices_rows['Top'][2] == choices_rows['Middle'][2] == choices_rows['Bottom'][2] == mark) or\n",
    "            (choices_rows['Top'][4] == choices_rows['Middle'][4] == choices_rows['Bottom'][4] == mark))\n",
    "    "
   ]
  },
  {
   "cell_type": "code",
   "execution_count": 61,
   "id": "b99a43fb",
   "metadata": {},
   "outputs": [
    {
     "name": "stdout",
     "output_type": "stream",
     "text": [
      "O|O|X\n",
      "X|O|O\n",
      "X|O|X\n",
      "P2 wins !!!\n",
      "Game Over!!!\n",
      "Want to Play Again? (Y/N) N\n"
     ]
    },
    {
     "ename": "SystemExit",
     "evalue": "",
     "output_type": "error",
     "traceback": [
      "An exception has occurred, use %tb to see the full traceback.\n",
      "\u001b[1;31mSystemExit\u001b[0m\n"
     ]
    }
   ],
   "source": [
    "from itertools import cycle\n",
    "from IPython.display import clear_output\n",
    "import random\n",
    "\n",
    "\n",
    "# Implementing above functions to build a tic tac toe game\n",
    "while True:\n",
    "    row1,row2,row3 = display_game()\n",
    "    \n",
    "    rows = ['Top' ,'Middle', 'Bottom' ]\n",
    "    cells = ['Left' , 'Center' , 'Right']\n",
    "\n",
    "    choices_rows = {'Top':row1, 'Middle':row2, 'Bottom':row3}\n",
    "    choices_cells = {'Left':0, 'Center':2, 'Right':4}\n",
    "\n",
    "    players = ['P1','P2']\n",
    "    player = {'P1': 'X', 'P2':'O'}\n",
    "\n",
    "    moves_list = set()\n",
    "    player_names()\n",
    "    moves = 1\n",
    "    oscillate = [0,1]\n",
    "\n",
    "\n",
    "    turn = start_turn()\n",
    "    if turn:\n",
    "        oscillate = [1,0]\n",
    "\n",
    "\n",
    "    for turn in cycle(oscillate):\n",
    "        p_row,p_cell = player_turn(turn)\n",
    "#     moves_row_list.append(p_row)\n",
    "#     moves_row_list.append(p_cell)\n",
    "#     moves_list.add((p_row,p_cell))\n",
    "        if moves == 1:\n",
    "                moves_list.add((p_row,p_cell))\n",
    "        if  moves > 1:\n",
    "            while check_input(moves_list):\n",
    "                    p_row,p_cell = player_turn(turn)\n",
    "        \n",
    "        clear_output()\n",
    "        update_board(players[turn],p_row,p_cell)\n",
    "    \n",
    "        if win_check(player[players[turn]]):\n",
    "            print(f'{players[turn]} wins !!!')\n",
    "            if end_game(moves):\n",
    "                     break\n",
    "            \n",
    "        end_game(moves)\n",
    "        moves += 1\n",
    "    if replay():\n",
    "         continue\n",
    "    else:\n",
    "        raise SystemExit\n",
    "        \n",
    "            "
   ]
  },
  {
   "cell_type": "code",
   "execution_count": null,
   "id": "cdb3713c",
   "metadata": {},
   "outputs": [],
   "source": []
  }
 ],
 "metadata": {
  "kernelspec": {
   "display_name": "Python 3 (ipykernel)",
   "language": "python",
   "name": "python3"
  },
  "language_info": {
   "codemirror_mode": {
    "name": "ipython",
    "version": 3
   },
   "file_extension": ".py",
   "mimetype": "text/x-python",
   "name": "python",
   "nbconvert_exporter": "python",
   "pygments_lexer": "ipython3",
   "version": "3.9.12"
  }
 },
 "nbformat": 4,
 "nbformat_minor": 5
}
